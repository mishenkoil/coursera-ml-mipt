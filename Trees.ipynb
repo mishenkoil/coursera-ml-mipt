{
 "cells": [
  {
   "cell_type": "code",
   "execution_count": 2,
   "metadata": {},
   "outputs": [],
   "source": [
    "import warnings\n",
    "warnings.filterwarnings('ignore')\n",
    "\n",
    "import pandas as pd\n",
    "import numpy as np\n",
    "\n",
    "import matplotlib\n",
    "from matplotlib import pyplot as plt\n",
    "matplotlib.style.use('ggplot')\n",
    "%matplotlib inline\n",
    "\n",
    "from sklearn import datasets"
   ]
  },
  {
   "cell_type": "code",
   "execution_count": 3,
   "metadata": {},
   "outputs": [
    {
     "data": {
      "text/plain": [
       "array([0, 1, 2, ..., 8, 9, 8])"
      ]
     },
     "execution_count": 3,
     "metadata": {},
     "output_type": "execute_result"
    }
   ],
   "source": [
    "digits_dataset = datasets.load_digits()\n",
    "digits_dataset.target"
   ]
  },
  {
   "cell_type": "code",
   "execution_count": 4,
   "metadata": {},
   "outputs": [
    {
     "data": {
      "text/plain": [
       "0       0\n",
       "1       1\n",
       "2       2\n",
       "3       3\n",
       "4       4\n",
       "       ..\n",
       "1792    9\n",
       "1793    0\n",
       "1794    8\n",
       "1795    9\n",
       "1796    8\n",
       "Name: target, Length: 1797, dtype: int64"
      ]
     },
     "execution_count": 4,
     "metadata": {},
     "output_type": "execute_result"
    }
   ],
   "source": [
    "digits_frame = pd.DataFrame(digits_dataset.data)\n",
    "# digits_frame.target = digits_dataset.target\n",
    "digits_frame['target'] = digits_dataset.target\n",
    "digits_frame['target']"
   ]
  },
  {
   "cell_type": "code",
   "execution_count": 23,
   "metadata": {},
   "outputs": [
    {
     "name": "stdout",
     "output_type": "stream",
     "text": [
      "       0    1     2     3     4     5    6    7    8    9   ...   54   55  \\\n",
      "0     0.0  0.0   5.0  13.0   9.0   1.0  0.0  0.0  0.0  0.0  ...  0.0  0.0   \n",
      "1     0.0  0.0   0.0  12.0  13.0   5.0  0.0  0.0  0.0  0.0  ...  0.0  0.0   \n",
      "2     0.0  0.0   0.0   4.0  15.0  12.0  0.0  0.0  0.0  0.0  ...  5.0  0.0   \n",
      "3     0.0  0.0   7.0  15.0  13.0   1.0  0.0  0.0  0.0  8.0  ...  9.0  0.0   \n",
      "4     0.0  0.0   0.0   1.0  11.0   0.0  0.0  0.0  0.0  0.0  ...  0.0  0.0   \n",
      "...   ...  ...   ...   ...   ...   ...  ...  ...  ...  ...  ...  ...  ...   \n",
      "1792  0.0  0.0   4.0  10.0  13.0   6.0  0.0  0.0  0.0  1.0  ...  4.0  0.0   \n",
      "1793  0.0  0.0   6.0  16.0  13.0  11.0  1.0  0.0  0.0  0.0  ...  1.0  0.0   \n",
      "1794  0.0  0.0   1.0  11.0  15.0   1.0  0.0  0.0  0.0  0.0  ...  0.0  0.0   \n",
      "1795  0.0  0.0   2.0  10.0   7.0   0.0  0.0  0.0  0.0  0.0  ...  2.0  0.0   \n",
      "1796  0.0  0.0  10.0  14.0   8.0   1.0  0.0  0.0  0.0  2.0  ...  8.0  0.0   \n",
      "\n",
      "       56   57   58    59    60    61   62   63  \n",
      "0     0.0  0.0  6.0  13.0  10.0   0.0  0.0  0.0  \n",
      "1     0.0  0.0  0.0  11.0  16.0  10.0  0.0  0.0  \n",
      "2     0.0  0.0  0.0   3.0  11.0  16.0  9.0  0.0  \n",
      "3     0.0  0.0  7.0  13.0  13.0   9.0  0.0  0.0  \n",
      "4     0.0  0.0  0.0   2.0  16.0   4.0  0.0  0.0  \n",
      "...   ...  ...  ...   ...   ...   ...  ...  ...  \n",
      "1792  0.0  0.0  2.0  14.0  15.0   9.0  0.0  0.0  \n",
      "1793  0.0  0.0  6.0  16.0  14.0   6.0  0.0  0.0  \n",
      "1794  0.0  0.0  2.0   9.0  13.0   6.0  0.0  0.0  \n",
      "1795  0.0  0.0  5.0  12.0  16.0  12.0  0.0  0.0  \n",
      "1796  0.0  1.0  8.0  12.0  14.0  12.0  1.0  0.0  \n",
      "\n",
      "[1797 rows x 64 columns]\n",
      "0       0\n",
      "1       1\n",
      "2       2\n",
      "3       3\n",
      "4       4\n",
      "       ..\n",
      "1792    9\n",
      "1793    0\n",
      "1794    8\n",
      "1795    9\n",
      "1796    8\n",
      "Name: target, Length: 1797, dtype: int64\n"
     ]
    }
   ],
   "source": [
    "X = digits_frame.drop('target', 1)\n",
    "y = digits_frame['target']\n",
    "print(X)\n",
    "print(y)"
   ]
  },
  {
   "cell_type": "code",
   "execution_count": 24,
   "metadata": {},
   "outputs": [
    {
     "name": "stdout",
     "output_type": "stream",
     "text": [
      "       0    1    2     3     4     5    6    7    8     9   ...    54   55  \\\n",
      "1633  0.0  0.0  0.0   8.0  10.0  14.0  3.0  0.0  0.0   1.0  ...   0.0  0.0   \n",
      "965   0.0  0.0  7.0  16.0  12.0   1.0  0.0  0.0  0.0   0.0  ...  14.0  0.0   \n",
      "1755  0.0  0.0  0.0   8.0  15.0   3.0  0.0  0.0  0.0   0.0  ...  15.0  0.0   \n",
      "958   0.0  0.0  8.0   6.0   0.0   0.0  0.0  0.0  0.0   0.0  ...   8.0  4.0   \n",
      "1560  0.0  0.0  4.0  13.0  16.0  14.0  0.0  0.0  0.0   2.0  ...   0.0  0.0   \n",
      "...   ...  ...  ...   ...   ...   ...  ...  ...  ...   ...  ...   ...  ...   \n",
      "835   0.0  1.0  8.0  14.0  15.0   2.0  0.0  0.0  0.0   2.0  ...   1.0  0.0   \n",
      "1216  0.0  2.0  9.0  15.0  16.0  15.0  2.0  0.0  0.0  11.0  ...   7.0  0.0   \n",
      "1653  0.0  0.0  5.0  14.0  14.0   2.0  0.0  0.0  0.0   2.0  ...   0.0  0.0   \n",
      "559   0.0  0.0  4.0  10.0  15.0  16.0  4.0  0.0  0.0   0.0  ...   0.0  0.0   \n",
      "684   0.0  0.0  6.0  14.0  13.0   4.0  0.0  0.0  0.0   4.0  ...   1.0  0.0   \n",
      "\n",
      "       56   57    58    59    60    61    62    63  \n",
      "1633  0.0  0.0   1.0  12.0   2.0   0.0   0.0   0.0  \n",
      "965   0.0  0.0   7.0  16.0  16.0  16.0   4.0   0.0  \n",
      "1755  0.0  0.0   0.0  10.0  14.0  12.0   8.0   0.0  \n",
      "958   0.0  0.0   9.0  16.0  16.0  16.0  16.0  13.0  \n",
      "1560  0.0  0.0   4.0  16.0   5.0   0.0   0.0   0.0  \n",
      "...   ...  ...   ...   ...   ...   ...   ...   ...  \n",
      "835   0.0  1.0   9.0  12.0  13.0   9.0   0.0   0.0  \n",
      "1216  0.0  0.0  12.0  16.0  15.0   9.0   1.0   0.0  \n",
      "1653  0.0  0.0   9.0  13.0   0.0   0.0   0.0   0.0  \n",
      "559   0.0  0.0   6.0  16.0   4.0   0.0   0.0   0.0  \n",
      "684   0.0  0.0   5.0  16.0  16.0  11.0   0.0   0.0  \n",
      "\n",
      "[1257 rows x 64 columns]\n",
      "1633    9\n",
      "965     3\n",
      "1755    6\n",
      "958     1\n",
      "1560    5\n",
      "       ..\n",
      "835     3\n",
      "1216    3\n",
      "1653    7\n",
      "559     7\n",
      "684     8\n",
      "Name: target, Length: 1257, dtype: int64\n"
     ]
    }
   ],
   "source": [
    "from sklearn.model_selection import train_test_split\n",
    "\n",
    "(X_train, \n",
    " X_test, \n",
    " y_train, y_test) = train_test_split(X, y, \n",
    "                                     test_size=0.3, \n",
    "                                     random_state=0)\n",
    "print(X_train)\n",
    "print(y_train)"
   ]
  },
  {
   "cell_type": "code",
   "execution_count": 27,
   "metadata": {},
   "outputs": [
    {
     "name": "stdout",
     "output_type": "stream",
     "text": [
      "[0.30753639 0.43753571 0.43895758 0.52586841 0.35392126 0.48467775\n",
      " 0.49838285 0.39540361 0.36302399 0.4310925 ]\n",
      "0.42364000707294097\n"
     ]
    }
   ],
   "source": [
    "from sklearn.linear_model import Lasso\n",
    "from sklearn.model_selection import cross_val_score\n",
    "print(cross_val_score(Lasso(), X, y, cv=10))\n",
    "print(cross_val_score(Lasso(), X, y, cv=10).mean())"
   ]
  },
  {
   "cell_type": "code",
   "execution_count": 30,
   "metadata": {},
   "outputs": [
    {
     "ename": "SyntaxError",
     "evalue": "unexpected EOF while parsing (<ipython-input-30-e1954d64928d>, line 2)",
     "output_type": "error",
     "traceback": [
      "\u001b[0;36m  File \u001b[0;32m\"<ipython-input-30-e1954d64928d>\"\u001b[0;36m, line \u001b[0;32m2\u001b[0m\n\u001b[0;31m    print(cross_val_score(DecisionTreeClassifier(), X, y, cv=10)\u001b[0m\n\u001b[0m                                                                ^\u001b[0m\n\u001b[0;31mSyntaxError\u001b[0m\u001b[0;31m:\u001b[0m unexpected EOF while parsing\n"
     ]
    }
   ],
   "source": [
    "from sklearn.tree import DecisionTreeClassifier\n",
    "print(cross_val_score(DecisionTreeClassifier(), X, y, cv=10)"
   ]
  },
  {
   "cell_type": "code",
   "execution_count": 29,
   "metadata": {},
   "outputs": [
    {
     "ename": "SyntaxError",
     "evalue": "unexpected EOF while parsing (<ipython-input-29-e1954d64928d>, line 2)",
     "output_type": "error",
     "traceback": [
      "\u001b[0;36m  File \u001b[0;32m\"<ipython-input-29-e1954d64928d>\"\u001b[0;36m, line \u001b[0;32m2\u001b[0m\n\u001b[0;31m    print(cross_val_score(DecisionTreeClassifier(), X, y, cv=10)\u001b[0m\n\u001b[0m                                                                ^\u001b[0m\n\u001b[0;31mSyntaxError\u001b[0m\u001b[0;31m:\u001b[0m unexpected EOF while parsing\n"
     ]
    }
   ],
   "source": [
    "from sklearn.tree import DecisionTreeClassifier\n",
    "print(cross_val_score(DecisionTreeClassifier(), X, y, cv=10)"
   ]
  },
  {
   "cell_type": "code",
   "execution_count": 32,
   "metadata": {},
   "outputs": [
    {
     "name": "stdout",
     "output_type": "stream",
     "text": [
      "[0.81111111 0.86111111 0.82222222 0.8        0.78333333 0.87222222\n",
      " 0.87222222 0.8547486  0.8603352  0.79888268]\n",
      "0.8280291744258225\n"
     ]
    }
   ],
   "source": [
    "from sklearn.tree import DecisionTreeClassifier\n",
    "print(cross_val_score(DecisionTreeClassifier(), X, y, cv=10))\n",
    "print(cross_val_score(DecisionTreeClassifier(), X, y, cv=10).mean())"
   ]
  },
  {
   "cell_type": "code",
   "execution_count": 34,
   "metadata": {},
   "outputs": [
    {
     "name": "stdout",
     "output_type": "stream",
     "text": [
      "[0.86111111 0.95       0.89444444 0.92777778 0.92222222 0.98888889\n",
      " 0.97222222 0.91061453 0.87709497 0.91061453]\n",
      "0.9237274984481688\n"
     ]
    }
   ],
   "source": [
    "from sklearn.ensemble import BaggingClassifier\n",
    "print(cross_val_score(BaggingClassifier(base_estimator=DecisionTreeClassifier(), \n",
    "                      n_estimators=100), \n",
    "                      X, y, \n",
    "                      cv=10))\n",
    "print(cross_val_score(BaggingClassifier(base_estimator=DecisionTreeClassifier(), \n",
    "                      n_estimators=100), \n",
    "                      X, y, \n",
    "                      cv=10).mean())"
   ]
  },
  {
   "cell_type": "code",
   "execution_count": 35,
   "metadata": {},
   "outputs": [
    {
     "name": "stdout",
     "output_type": "stream",
     "text": [
      "[0.88333333 0.95555556 0.95       0.91666667 0.94444444 0.93888889\n",
      " 0.96111111 0.96089385 0.90502793 0.90502793]\n",
      "0.9315456238361268\n"
     ]
    }
   ],
   "source": [
    "print(cross_val_score(BaggingClassifier(base_estimator=DecisionTreeClassifier(), \n",
    "                      n_estimators=100, max_features=8), \n",
    "                      X, y, \n",
    "                      cv=10))\n",
    "print(cross_val_score(BaggingClassifier(base_estimator=DecisionTreeClassifier(), \n",
    "                      n_estimators=100, max_features=8), \n",
    "                      X, y, \n",
    "                      cv=10).mean())"
   ]
  },
  {
   "cell_type": "code",
   "execution_count": null,
   "metadata": {},
   "outputs": [],
   "source": []
  }
 ],
 "metadata": {
  "kernelspec": {
   "display_name": "Python 3",
   "language": "python",
   "name": "python3"
  },
  "language_info": {
   "codemirror_mode": {
    "name": "ipython",
    "version": 3
   },
   "file_extension": ".py",
   "mimetype": "text/x-python",
   "name": "python",
   "nbconvert_exporter": "python",
   "pygments_lexer": "ipython3",
   "version": "3.7.6"
  }
 },
 "nbformat": 4,
 "nbformat_minor": 4
}
